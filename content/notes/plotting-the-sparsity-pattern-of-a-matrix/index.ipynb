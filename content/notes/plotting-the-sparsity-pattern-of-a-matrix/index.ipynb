{
 "cells": [
  {
   "cell_type": "raw",
   "id": "fc9c2ab7",
   "metadata": {},
   "source": [
    "---\n",
    "Date: 2017-07-05 14:34:00\n",
    "Revised: 2023-01-22\n",
    "Category: Programming\n",
    "Tags: python, matplotlib, numerics, visualization\n",
    "---"
   ]
  },
  {
   "cell_type": "markdown",
   "id": "60870239",
   "metadata": {},
   "source": [
    "# Plotting the sparsity pattern of a matrix"
   ]
  },
  {
   "cell_type": "markdown",
   "id": "11ae5173",
   "metadata": {},
   "source": [
    "Matplotlib contains the [spy][] method for plotting the sparsity pattern of a\n",
    "matrix. However, the routine does not choose the `markersize` in any useful\n",
    "way, causing the marker boxes for neighboring elements to either be\n",
    "separated by white space or to overlap, as in the example below (using the\n",
    "27×27 sparse matrix in [sparse.npz](sparse.npz)):\n",
    "\n",
    "[spy]: https://matplotlib.org/api/pyplot_api.html#matplotlib.pyplot.spy"
   ]
  },
  {
   "cell_type": "code",
   "execution_count": 1,
   "id": "e37b1732",
   "metadata": {
    "ExecuteTime": {
     "end_time": "2023-01-22T17:01:18.757813Z",
     "start_time": "2023-01-22T17:01:18.241125Z"
    }
   },
   "outputs": [
    {
     "data": {
      "text/plain": [
       "<matplotlib.lines.Line2D at 0x10e87b6a0>"
      ]
     },
     "execution_count": 1,
     "metadata": {},
     "output_type": "execute_result"
    },
    {
     "data": {
      "image/png": "[encoded data removed]",
      "text/plain": [
       "<Figure size 300x300 with 1 Axes>"
      ]
     },
     "metadata": {},
     "output_type": "display_data"
    }
   ],
   "source": [
    "import matplotlib.pylab as plt\n",
    "import scipy.sparse\n",
    "H = scipy.sparse.load_npz('sparse.npz')\n",
    "fig, ax = plt.subplots(figsize=(3, 3))\n",
    "ax.spy(H)"
   ]
  },
  {
   "cell_type": "markdown",
   "id": "340be790",
   "metadata": {},
   "source": [
    "The following custom `spy` routine generates a similar plot, but uses markers of\n",
    "the correct size by drawing manual rectangles on the canvas."
   ]
  },
  {
   "cell_type": "code",
   "execution_count": 2,
   "id": "c9236c6d",
   "metadata": {
    "ExecuteTime": {
     "end_time": "2023-01-22T17:01:18.762832Z",
     "start_time": "2023-01-22T17:01:18.759449Z"
    }
   },
   "outputs": [],
   "source": [
    "def spy(m, ax):\n",
    "    from scipy.sparse import coo_matrix\n",
    "    from matplotlib.patches import Rectangle\n",
    "    if not isinstance(m, coo_matrix):\n",
    "        m = coo_matrix(m)\n",
    "    for (x, y) in zip(m.col, m.row):\n",
    "        ax.add_artist(Rectangle(\n",
    "            xy=(x-0.5, y-0.5), width=1, height=1))\n",
    "    ax.set_xlim(-0.5, m.shape[1]-0.5)\n",
    "    ax.set_ylim(-0.5, m.shape[0]-0.5)\n",
    "    ax.invert_yaxis()\n",
    "    ax.set_aspect(float(m.shape[0])/float(m.shape[1]))\n"
   ]
  },
  {
   "cell_type": "code",
   "execution_count": 3,
   "id": "c9f58bd6",
   "metadata": {
    "ExecuteTime": {
     "end_time": "2023-01-22T17:01:18.862177Z",
     "start_time": "2023-01-22T17:01:18.764160Z"
    }
   },
   "outputs": [
    {
     "data": {
      "image/png": "[encoded data removed]",
      "text/plain": [
       "<Figure size 300x300 with 1 Axes>"
      ]
     },
     "metadata": {},
     "output_type": "display_data"
    }
   ],
   "source": [
    "fig, ax = plt.subplots(figsize=(3, 3))\n",
    "spy(H, ax)"
   ]
  },
  {
   "cell_type": "markdown",
   "id": "89bc49e8",
   "metadata": {
    "ExecuteTime": {
     "end_time": "2023-01-22T17:00:54.370296Z",
     "start_time": "2023-01-22T17:00:54.367333Z"
    }
   },
   "source": [
    "The ticks mark the center of the marker for each element. Note that the 0-0\n",
    "element in the top left corner is zero."
   ]
  }
 ],
 "metadata": {
  "hide_input": false,
  "kernelspec": {
   "display_name": "michaelgoerz.net",
   "language": "python",
   "name": "michaelgoerz-net"
  },
  "language_info": {
   "codemirror_mode": {
    "name": "ipython",
    "version": 3
   },
   "file_extension": ".py",
   "mimetype": "text/x-python",
   "name": "python",
   "nbconvert_exporter": "python",
   "pygments_lexer": "ipython3",
   "version": "3.10.8"
  },
  "toc": {
   "base_numbering": 1,
   "nav_menu": {},
   "number_sections": true,
   "sideBar": true,
   "skip_h1_title": false,
   "title_cell": "Table of Contents",
   "title_sidebar": "Contents",
   "toc_cell": false,
   "toc_position": {},
   "toc_section_display": true,
   "toc_window_display": false
  },
  "varInspector": {
   "cols": {
    "lenName": 16,
    "lenType": 16,
    "lenVar": 40
   },
   "kernels_config": {
    "python": {
     "delete_cmd_postfix": "",
     "delete_cmd_prefix": "del ",
     "library": "var_list.py",
     "varRefreshCmd": "print(var_dic_list())"
    },
    "r": {
     "delete_cmd_postfix": ") ",
     "delete_cmd_prefix": "rm(",
     "library": "var_list.r",
     "varRefreshCmd": "cat(var_dic_list()) "
    }
   },
   "types_to_exclude": [
    "module",
    "function",
    "builtin_function_or_method",
    "instance",
    "_Feature"
   ],
   "window_display": false
  }
 },
 "nbformat": 4,
 "nbformat_minor": 5
}
