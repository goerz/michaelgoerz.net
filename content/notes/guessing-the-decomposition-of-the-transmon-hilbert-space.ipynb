{
 "cells": [
  {
   "cell_type": "raw",
   "metadata": {
    "lines_to_next_cell": 1
   },
   "source": [
    "---\n",
    "Date: 2015-02-07 12:45:39\n",
    "Revised: 2023-01-19\n",
    "Category: Science\n",
    "Tags: math, numerics, python, physics\n",
    "---"
   ]
  },
  {
   "cell_type": "markdown",
   "metadata": {},
   "source": [
    "# Guessing the Decomposition of the Transmon Hilbert Space"
   ]
  },
  {
   "cell_type": "markdown",
   "metadata": {},
   "source": [
    "We consider a Hilbert space that consists of two [Transmon][] \"qubits\" (qudits, actually) with `nq` levels, and a cavity with `nc` levels. Given the dimension of the total Hilbert space, `n = nq*nq*nc`, we want to find `nq` and `nc`, i.e. the tensor structure of the full Hilbert space. We demand that `nq <= nc`.\n",
    "\n",
    "[Transmon]: http://en.wikipedia.org/wiki/Transmon\n",
    "\n",
    "The decomposition is based on the prime factors of `n`:"
   ]
  },
  {
   "cell_type": "code",
   "execution_count": 1,
   "metadata": {
    "ExecuteTime": {
     "end_time": "2023-01-20T04:49:04.329343Z",
     "start_time": "2023-01-20T04:49:04.321289Z"
    }
   },
   "outputs": [],
   "source": [
    "def prime_factors(n):\n",
    "    \"\"\"Return the prime decomposition of n\"\"\"\n",
    "    i = 2\n",
    "    factors = []\n",
    "    while i * i <= n:\n",
    "        if n % i:\n",
    "            i += 1\n",
    "        else:\n",
    "            n //= i\n",
    "            factors.append(i)\n",
    "    if n > 1:\n",
    "        factors.append(n)\n",
    "    return factors"
   ]
  },
  {
   "cell_type": "code",
   "execution_count": 2,
   "metadata": {
    "ExecuteTime": {
     "end_time": "2023-01-20T04:49:04.333882Z",
     "start_time": "2023-01-20T04:49:04.331149Z"
    }
   },
   "outputs": [
    {
     "name": "stdout",
     "output_type": "stream",
     "text": [
      "[2, 2, 2, 2, 3, 3, 5]\n"
     ]
    }
   ],
   "source": [
    "n = 6*6*20\n",
    "factors = prime_factors(n)\n",
    "print(factors)"
   ]
  },
  {
   "cell_type": "markdown",
   "metadata": {},
   "source": [
    "Now we put them in two list: the prime factors of the qubit Hilbert space, and the prime factors of the cavity Hilbert space"
   ]
  },
  {
   "cell_type": "code",
   "execution_count": 3,
   "metadata": {
    "ExecuteTime": {
     "end_time": "2023-01-20T04:49:04.337504Z",
     "start_time": "2023-01-20T04:49:04.335311Z"
    }
   },
   "outputs": [],
   "source": [
    "qubit_factors = []\n",
    "cavity_factors = []"
   ]
  },
  {
   "cell_type": "code",
   "execution_count": 4,
   "metadata": {
    "ExecuteTime": {
     "end_time": "2023-01-20T04:49:04.342503Z",
     "start_time": "2023-01-20T04:49:04.339790Z"
    }
   },
   "outputs": [],
   "source": [
    "for factor in set(factors):\n",
    "    count = factors.count(factor)\n",
    "    while count >= 2:\n",
    "        qubit_factors.append(factor)\n",
    "        count += -2\n",
    "    if count > 0:\n",
    "        cavity_factors.append(factor)"
   ]
  },
  {
   "cell_type": "code",
   "execution_count": 5,
   "metadata": {
    "ExecuteTime": {
     "end_time": "2023-01-20T04:49:04.348835Z",
     "start_time": "2023-01-20T04:49:04.343999Z"
    }
   },
   "outputs": [
    {
     "data": {
      "text/plain": [
       "[2, 2, 3]"
      ]
     },
     "execution_count": 5,
     "metadata": {},
     "output_type": "execute_result"
    }
   ],
   "source": [
    "qubit_factors"
   ]
  },
  {
   "cell_type": "code",
   "execution_count": 6,
   "metadata": {
    "ExecuteTime": {
     "end_time": "2023-01-20T04:49:04.352952Z",
     "start_time": "2023-01-20T04:49:04.350245Z"
    }
   },
   "outputs": [
    {
     "data": {
      "text/plain": [
       "[5]"
      ]
     },
     "execution_count": 6,
     "metadata": {},
     "output_type": "execute_result"
    }
   ],
   "source": [
    "cavity_factors"
   ]
  },
  {
   "cell_type": "markdown",
   "metadata": {},
   "source": [
    "We demand that the qubit dimension is not larger than the cavity dimension. In order to assure this, we start moving the smallest prime factors from the qubit to the cavity"
   ]
  },
  {
   "cell_type": "code",
   "execution_count": 7,
   "metadata": {
    "ExecuteTime": {
     "end_time": "2023-01-20T04:49:04.423825Z",
     "start_time": "2023-01-20T04:49:04.354177Z"
    }
   },
   "outputs": [],
   "source": [
    "import numpy as np\n",
    "while np.array(qubit_factors).prod() > np.array(cavity_factors).prod():\n",
    "    factor = qubit_factors.pop(0)\n",
    "    cavity_factors = [factor, factor] + cavity_factors"
   ]
  },
  {
   "cell_type": "code",
   "execution_count": 8,
   "metadata": {
    "ExecuteTime": {
     "end_time": "2023-01-20T04:49:04.429240Z",
     "start_time": "2023-01-20T04:49:04.425505Z"
    }
   },
   "outputs": [
    {
     "data": {
      "text/plain": [
       "[2, 3]"
      ]
     },
     "execution_count": 8,
     "metadata": {},
     "output_type": "execute_result"
    }
   ],
   "source": [
    "qubit_factors"
   ]
  },
  {
   "cell_type": "code",
   "execution_count": 9,
   "metadata": {
    "ExecuteTime": {
     "end_time": "2023-01-20T04:49:04.433857Z",
     "start_time": "2023-01-20T04:49:04.430904Z"
    }
   },
   "outputs": [
    {
     "data": {
      "text/plain": [
       "[2, 2, 5]"
      ]
     },
     "execution_count": 9,
     "metadata": {},
     "output_type": "execute_result"
    }
   ],
   "source": [
    "cavity_factors"
   ]
  },
  {
   "cell_type": "code",
   "execution_count": 10,
   "metadata": {
    "ExecuteTime": {
     "end_time": "2023-01-20T04:49:04.441494Z",
     "start_time": "2023-01-20T04:49:04.438462Z"
    }
   },
   "outputs": [
    {
     "data": {
      "text/plain": [
       "6"
      ]
     },
     "execution_count": 10,
     "metadata": {},
     "output_type": "execute_result"
    }
   ],
   "source": [
    "nq = np.array(qubit_factors).prod()\n",
    "nq"
   ]
  },
  {
   "cell_type": "code",
   "execution_count": 11,
   "metadata": {
    "ExecuteTime": {
     "end_time": "2023-01-20T04:49:04.445870Z",
     "start_time": "2023-01-20T04:49:04.442822Z"
    }
   },
   "outputs": [
    {
     "data": {
      "text/plain": [
       "20"
      ]
     },
     "execution_count": 11,
     "metadata": {},
     "output_type": "execute_result"
    }
   ],
   "source": [
    "nc = np.array(cavity_factors).prod()\n",
    "nc"
   ]
  },
  {
   "cell_type": "markdown",
   "metadata": {},
   "source": [
    "The total algorithm looks like this (using `prime_factors`, and also allowing to specify the cavity dimension manually):"
   ]
  },
  {
   "cell_type": "code",
   "execution_count": 12,
   "metadata": {
    "ExecuteTime": {
     "end_time": "2023-01-20T04:49:04.451374Z",
     "start_time": "2023-01-20T04:49:04.446955Z"
    }
   },
   "outputs": [],
   "source": [
    "def qubit_cavity_decomposition(n, nc=None):\n",
    "    \"\"\"\n",
    "    Return (nq, nc) of a decomposition n = nq*nq*nc, where nc >= nq\n",
    "    \"\"\"\n",
    "    if nc is not None:\n",
    "        n = n // nc\n",
    "    factors = prime_factors(n)\n",
    "    qubit_factors = []\n",
    "    cavity_factors = []\n",
    "    for factor in set(factors):\n",
    "        count = factors.count(factor)\n",
    "        while count >= 2:\n",
    "            qubit_factors.append(factor)\n",
    "            count += -2\n",
    "        if count > 0:\n",
    "            cavity_factors.append(factor)\n",
    "    # Ensure nc >= nq\n",
    "    if nc is None:\n",
    "        while np.array(qubit_factors).prod() > np.array(cavity_factors).prod():\n",
    "            factor = qubit_factors.pop(0)\n",
    "            cavity_factors = [factor, factor] + cavity_factors\n",
    "        nc = np.array(cavity_factors).prod()\n",
    "    nq = np.array(qubit_factors).prod()\n",
    "    return nq, nc"
   ]
  },
  {
   "cell_type": "code",
   "execution_count": 13,
   "metadata": {
    "ExecuteTime": {
     "end_time": "2023-01-20T04:49:04.455764Z",
     "start_time": "2023-01-20T04:49:04.452585Z"
    }
   },
   "outputs": [
    {
     "data": {
      "text/plain": [
       "(5, 10)"
      ]
     },
     "execution_count": 13,
     "metadata": {},
     "output_type": "execute_result"
    }
   ],
   "source": [
    "qubit_cavity_decomposition(5*5*10)"
   ]
  },
  {
   "cell_type": "code",
   "execution_count": 14,
   "metadata": {
    "ExecuteTime": {
     "end_time": "2023-01-20T04:49:04.459768Z",
     "start_time": "2023-01-20T04:49:04.457078Z"
    }
   },
   "outputs": [
    {
     "data": {
      "text/plain": [
       "(5, 25)"
      ]
     },
     "execution_count": 14,
     "metadata": {},
     "output_type": "execute_result"
    }
   ],
   "source": [
    "qubit_cavity_decomposition(5*5*25)"
   ]
  },
  {
   "cell_type": "code",
   "execution_count": 15,
   "metadata": {
    "ExecuteTime": {
     "end_time": "2023-01-20T04:49:04.464086Z",
     "start_time": "2023-01-20T04:49:04.461261Z"
    }
   },
   "outputs": [
    {
     "data": {
      "text/plain": [
       "(10, 20)"
      ]
     },
     "execution_count": 15,
     "metadata": {},
     "output_type": "execute_result"
    }
   ],
   "source": [
    "qubit_cavity_decomposition(10*10*20)"
   ]
  },
  {
   "cell_type": "code",
   "execution_count": 16,
   "metadata": {
    "ExecuteTime": {
     "end_time": "2023-01-20T04:49:04.468367Z",
     "start_time": "2023-01-20T04:49:04.465201Z"
    }
   },
   "outputs": [
    {
     "data": {
      "text/plain": [
       "(10, 16)"
      ]
     },
     "execution_count": 16,
     "metadata": {},
     "output_type": "execute_result"
    }
   ],
   "source": [
    "qubit_cavity_decomposition(8*8*25)"
   ]
  },
  {
   "cell_type": "code",
   "execution_count": 17,
   "metadata": {
    "ExecuteTime": {
     "end_time": "2023-01-20T04:49:04.472712Z",
     "start_time": "2023-01-20T04:49:04.469819Z"
    }
   },
   "outputs": [
    {
     "data": {
      "text/plain": [
       "(8, 25)"
      ]
     },
     "execution_count": 17,
     "metadata": {},
     "output_type": "execute_result"
    }
   ],
   "source": [
    "qubit_cavity_decomposition(8*8*25, nc=25)"
   ]
  },
  {
   "cell_type": "code",
   "execution_count": 18,
   "metadata": {
    "ExecuteTime": {
     "end_time": "2023-01-20T04:49:04.476521Z",
     "start_time": "2023-01-20T04:49:04.473861Z"
    }
   },
   "outputs": [
    {
     "data": {
      "text/plain": [
       "(8, 30)"
      ]
     },
     "execution_count": 18,
     "metadata": {},
     "output_type": "execute_result"
    }
   ],
   "source": [
    "qubit_cavity_decomposition(8*8*30)"
   ]
  }
 ],
 "metadata": {
  "@webio": {
   "lastCommId": null,
   "lastKernelId": null
  },
  "hide_input": false,
  "kernelspec": {
   "display_name": "michaelgoerz.net",
   "language": "python",
   "name": "michaelgoerz-net"
  },
  "language_info": {
   "codemirror_mode": {
    "name": "ipython",
    "version": 3
   },
   "file_extension": ".py",
   "mimetype": "text/x-python",
   "name": "python",
   "nbconvert_exporter": "python",
   "pygments_lexer": "ipython3",
   "version": "3.10.8"
  },
  "toc": {
   "base_numbering": 1,
   "nav_menu": {},
   "number_sections": true,
   "sideBar": true,
   "skip_h1_title": false,
   "title_cell": "Table of Contents",
   "title_sidebar": "Contents",
   "toc_cell": false,
   "toc_position": {},
   "toc_section_display": true,
   "toc_window_display": false
  },
  "varInspector": {
   "cols": {
    "lenName": 16,
    "lenType": 16,
    "lenVar": 40
   },
   "kernels_config": {
    "python": {
     "delete_cmd_postfix": "",
     "delete_cmd_prefix": "del ",
     "library": "var_list.py",
     "varRefreshCmd": "print(var_dic_list())"
    },
    "r": {
     "delete_cmd_postfix": ") ",
     "delete_cmd_prefix": "rm(",
     "library": "var_list.r",
     "varRefreshCmd": "cat(var_dic_list()) "
    }
   },
   "types_to_exclude": [
    "module",
    "function",
    "builtin_function_or_method",
    "instance",
    "_Feature"
   ],
   "window_display": false
  }
 },
 "nbformat": 4,
 "nbformat_minor": 1
}
