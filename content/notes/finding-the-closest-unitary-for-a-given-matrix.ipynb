{
 "cells": [
  {
   "cell_type": "raw",
   "metadata": {},
   "source": [
    "---\n",
    "Category: Science\n",
    "tags: math, numerics, python\n",
    "Date: May 25, 2014\n",
    "Revised: 2015-05-24\n",
    "---"
   ]
  },
  {
   "cell_type": "markdown",
   "metadata": {},
   "source": [
    "# Finding the Closest Unitary for a Given Matrix"
   ]
  },
  {
   "cell_type": "code",
   "execution_count": 1,
   "metadata": {
    "ExecuteTime": {
     "end_time": "2023-01-19T22:20:56.900294Z",
     "start_time": "2023-01-19T22:20:54.691656Z"
    }
   },
   "outputs": [],
   "source": [
    "import numpy as np\n",
    "import scipy.linalg"
   ]
  },
  {
   "cell_type": "markdown",
   "metadata": {},
   "source": [
    "$\\newcommand{\\trace}{\\operatorname{tr}}$"
   ]
  },
  {
   "cell_type": "markdown",
   "metadata": {},
   "source": [
    "For a given matrix $\\hat{A}$, we want to find the closest unitary matrix\n",
    "$\\hat{U}$, in the sense that the [operator norm][WP:OpNorm] (aka\n",
    "[2-norm][WP:MatrixNorm]) of their difference should be minimal.\n",
    "\n",
    "$$\\hat{U} = \\arg \\min_{\\tilde{U}} \\Vert \\hat{A}-\\tilde{U} \\Vert$$\n",
    "\n",
    "[WP:OpNorm]:     http://en.wikipedia.org/wiki/Operator_norm\n",
    "[WP:MatrixNorm]: http://en.wikipedia.org/wiki/Matrix_norm#Induced_norm"
   ]
  },
  {
   "cell_type": "markdown",
   "metadata": {},
   "source": [
    "For example, let's consider the following matrix:"
   ]
  },
  {
   "cell_type": "code",
   "execution_count": 2,
   "metadata": {
    "ExecuteTime": {
     "end_time": "2023-01-19T22:20:56.904707Z",
     "start_time": "2023-01-19T22:20:56.901910Z"
    }
   },
   "outputs": [],
   "source": [
    "A = np.matrix([\n",
    "[-1.75900766E-02-1.15354406E-01j, 6.10816904E-03+9.49971160E-03j, 1.79090787E-02+1.33311069E-02j,-1.82163102E-03-8.77682357E-04j],\n",
    "[-9.77987203E-03+5.01950535E-03j, 8.74085180E-04+3.25580543E-04j,-6.74874670E-03-5.82800747E-03j,-1.95106265E-03+9.84138284E-04j],\n",
    "[-6.11175534E-03+2.26761191E-02j,-5.04355339E-03-2.57661178E-02j, 2.15674643E-01+8.36337993E-01j, 1.76098908E-02+1.74391779E-02j],\n",
    "[ 1.51473418E-03+1.07178057E-03j, 6.40793740E-04-1.94176372E-03j,-1.28408900E-02+2.66263921E-02j, 4.84726807E-02-3.84341687E-03j]\n",
    "])"
   ]
  },
  {
   "cell_type": "markdown",
   "metadata": {},
   "source": [
    "In cases where $\\hat{A}$ of dimension $n$ is obtained from projecting down a\n",
    "unitary matrix $\\hat{U}_m$ of a larger dimension ($\\hat{A} = \\hat{P}\n",
    "\\hat{U}_m \\hat{P}$, where $\\hat{P}$ is the projector from dimension\n",
    "$m$ to dimension $n$) , one possible way to quantify the \"distance from unitarity\" is\n",
    "$$d_u(\\hat{A}) = 1 - \\frac{1}{n} \\trace[\\hat{A}^\\dagger \\hat{A}].$$\n",
    "\n",
    "This situation is common in quantum information, where $\\hat{A}$ is the\n",
    "projection of the unitary evolution of a large Hilbert space of dimension $m$\n",
    "into a small logical subspace of dimension $n$. The quantity $d_u(\\hat{A})$ is\n",
    "then simply the population lost from logical subspace.\n"
   ]
  },
  {
   "cell_type": "code",
   "execution_count": 3,
   "metadata": {
    "ExecuteTime": {
     "end_time": "2023-01-19T22:20:56.908300Z",
     "start_time": "2023-01-19T22:20:56.905735Z"
    }
   },
   "outputs": [],
   "source": [
    "def delta_uni(A):\n",
    "    \"\"\" Assuming that A is a matrix obtained from projecting a unitary matrix\n",
    "        to a smaller subspace, return the loss of population of subspace, as a\n",
    "        distance measure of A from unitarity.\n",
    "        \n",
    "        Result is in [0,1], with 0 if A is unitary.\n",
    "    \"\"\"\n",
    "    return 1.0 - (A.H * A).trace()[0,0].real / A.shape[0]"
   ]
  },
  {
   "cell_type": "markdown",
   "metadata": {},
   "source": [
    "For the given matrix, we lose about 80% of the population in the logical subspace:"
   ]
  },
  {
   "cell_type": "code",
   "execution_count": 4,
   "metadata": {
    "ExecuteTime": {
     "end_time": "2023-01-19T22:20:56.914520Z",
     "start_time": "2023-01-19T22:20:56.910063Z"
    }
   },
   "outputs": [
    {
     "data": {
      "text/plain": [
       "0.8086175231094259"
      ]
     },
     "execution_count": 4,
     "metadata": {},
     "output_type": "execute_result"
    }
   ],
   "source": [
    "delta_uni(A)"
   ]
  },
  {
   "cell_type": "markdown",
   "metadata": {},
   "source": [
    "A $\\hat{U}$ that minimizes $\\Vert \\hat{A} - \\hat{U}\\Vert$ can \n",
    "be calculated via a [singular value decomposition (SVD)][WP:SVD] [Reich]:\n",
    "$$\\hat{A} = \\hat{V} \\hat{\\Sigma}  \\hat{W}^\\dagger,$$\n",
    "$$ \\hat{U} = \\hat{V} \\hat{W}^\\dagger.$$\n",
    "\n",
    "[WP:SVD]: http://en.wikipedia.org/wiki/Singular_value_decomposition"
   ]
  },
  {
   "cell_type": "code",
   "execution_count": 5,
   "metadata": {
    "ExecuteTime": {
     "end_time": "2023-01-19T22:20:56.917936Z",
     "start_time": "2023-01-19T22:20:56.915465Z"
    }
   },
   "outputs": [],
   "source": [
    "def closest_unitary(A):\n",
    "    \"\"\" Calculate the unitary matrix U that is closest with respect to the\n",
    "        operator norm distance to the general matrix A.\n",
    "\n",
    "        Return U as a numpy matrix.\n",
    "    \"\"\"\n",
    "    V, __, Wh = scipy.linalg.svd(A)\n",
    "    U = np.matrix(V.dot(Wh))\n",
    "    return U\n"
   ]
  },
  {
   "cell_type": "code",
   "execution_count": 6,
   "metadata": {
    "ExecuteTime": {
     "end_time": "2023-01-19T22:20:56.922629Z",
     "start_time": "2023-01-19T22:20:56.919475Z"
    }
   },
   "outputs": [],
   "source": [
    "U = closest_unitary(A)"
   ]
  },
  {
   "cell_type": "markdown",
   "metadata": {},
   "source": [
    "The SVD also allows to calculate the distance that $\\hat{A}$ has from $\\hat{U}$.\n",
    "$$ d(\\hat{A}, \\hat{U}) = \\max_i \\vert \\sigma_i - 1\\vert, $$\n",
    "where $\\sigma_i$ are the diagonal entries of $\\hat{\\Sigma}$ from the SVD.  This\n",
    "is a more general measure of \"distance from unitarity\" than `delta_uni`"
   ]
  },
  {
   "cell_type": "code",
   "execution_count": 7,
   "metadata": {
    "ExecuteTime": {
     "end_time": "2023-01-19T22:20:56.926401Z",
     "start_time": "2023-01-19T22:20:56.923707Z"
    }
   },
   "outputs": [],
   "source": [
    "def deltaU(A):\n",
    "    \"\"\"Distance to the closes unitary.\n",
    "\n",
    "    Calculate the operator norm distance \\Vert\\hat{A} - \\hat{U}\\Vert between\n",
    "    an arbitrary matrix $\\hat{A}$ and the closest unitary matrix $\\hat{U}$\n",
    "    \"\"\"\n",
    "    __, S, __ = scipy.linalg.svd(A)\n",
    "    d = 0.0\n",
    "    for s in S:\n",
    "        if abs(s - 1.0) > d:\n",
    "            d = abs(s-1.0)\n",
    "    return d"
   ]
  },
  {
   "cell_type": "markdown",
   "metadata": {},
   "source": [
    "For matrices obtained from projecting down from a larger Hilbert space, the maximum distance is 1. For general matrices, it can be larger."
   ]
  },
  {
   "cell_type": "code",
   "execution_count": 8,
   "metadata": {
    "ExecuteTime": {
     "end_time": "2023-01-19T22:20:56.930651Z",
     "start_time": "2023-01-19T22:20:56.927890Z"
    }
   },
   "outputs": [
    {
     "data": {
      "text/plain": [
       "0.9990214593985087"
      ]
     },
     "execution_count": 8,
     "metadata": {},
     "output_type": "execute_result"
    }
   ],
   "source": [
    "deltaU(A) # should be close to 1, we are *very* non-unitary"
   ]
  },
  {
   "cell_type": "code",
   "execution_count": 9,
   "metadata": {
    "ExecuteTime": {
     "end_time": "2023-01-19T22:20:56.934597Z",
     "start_time": "2023-01-19T22:20:56.931744Z"
    }
   },
   "outputs": [
    {
     "data": {
      "text/plain": [
       "4.440892098500626e-16"
      ]
     },
     "execution_count": 9,
     "metadata": {},
     "output_type": "execute_result"
    }
   ],
   "source": [
    "deltaU(U) # should be zero, within machine precision"
   ]
  },
  {
   "cell_type": "markdown",
   "metadata": {},
   "source": [
    "We can double check this with the implemenation of the 2-norm in SciPy:"
   ]
  },
  {
   "cell_type": "code",
   "execution_count": 10,
   "metadata": {
    "ExecuteTime": {
     "end_time": "2023-01-19T22:20:56.941494Z",
     "start_time": "2023-01-19T22:20:56.937726Z"
    }
   },
   "outputs": [
    {
     "data": {
      "text/plain": [
       "0.9990214593985086"
      ]
     },
     "execution_count": 10,
     "metadata": {},
     "output_type": "execute_result"
    }
   ],
   "source": [
    "scipy.linalg.norm(A-U, ord=2) # should be equal to deltaU(A)"
   ]
  },
  {
   "cell_type": "markdown",
   "metadata": {},
   "source": [
    "## Reference"
   ]
  },
  {
   "cell_type": "markdown",
   "metadata": {},
   "source": [
    "[Reich] D.M.Reich. \"Characterisation and Identification of Unitary Dynamics Maps in Terms of Their Action on Density Matrices\" (unpublished)"
   ]
  }
 ],
 "metadata": {
  "@webio": {
   "lastCommId": null,
   "lastKernelId": null
  },
  "hide_input": false,
  "kernelspec": {
   "display_name": "michaelgoerz.net",
   "language": "python",
   "name": "michaelgoerz-net"
  },
  "language_info": {
   "codemirror_mode": {
    "name": "ipython",
    "version": 3
   },
   "file_extension": ".py",
   "mimetype": "text/x-python",
   "name": "python",
   "nbconvert_exporter": "python",
   "pygments_lexer": "ipython3",
   "version": "3.10.8"
  },
  "metadata": {
   "category": "Physics & Computation",
   "tags": [
    "math",
    "numerics",
    "python",
    "ipynb"
   ]
  },
  "toc": {
   "base_numbering": 1,
   "nav_menu": {},
   "number_sections": true,
   "sideBar": true,
   "skip_h1_title": false,
   "title_cell": "Table of Contents",
   "title_sidebar": "Contents",
   "toc_cell": false,
   "toc_position": {},
   "toc_section_display": true,
   "toc_window_display": false
  },
  "varInspector": {
   "cols": {
    "lenName": 16,
    "lenType": 16,
    "lenVar": 40
   },
   "kernels_config": {
    "python": {
     "delete_cmd_postfix": "",
     "delete_cmd_prefix": "del ",
     "library": "var_list.py",
     "varRefreshCmd": "print(var_dic_list())"
    },
    "r": {
     "delete_cmd_postfix": ") ",
     "delete_cmd_prefix": "rm(",
     "library": "var_list.r",
     "varRefreshCmd": "cat(var_dic_list()) "
    }
   },
   "types_to_exclude": [
    "module",
    "function",
    "builtin_function_or_method",
    "instance",
    "_Feature"
   ],
   "window_display": false
  }
 },
 "nbformat": 4,
 "nbformat_minor": 1
}
